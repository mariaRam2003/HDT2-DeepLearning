{
 "cells": [
  {
   "cell_type": "markdown",
   "metadata": {},
   "source": [
    "# Hoja de Trabajo #2 - Universidad del Valle de Guatemala\n",
    "- Diego Leiva \n",
    "- Jose Pablo Orellana\n",
    "- María Marta Ramirez - 21438\n",
    "---------------------------------------------------------------------------------------------------"
   ]
  },
  {
   "cell_type": "markdown",
   "metadata": {},
   "source": [
    "imports"
   ]
  },
  {
   "cell_type": "code",
   "execution_count": 1,
   "metadata": {},
   "outputs": [],
   "source": [
    "from sklearn.datasets import load_iris\n",
    "from sklearn.model_selection import train_test_split\n",
    "import torch\n",
    "from torch.utils.data import TensorDataset, DataLoader\n",
    "import torch.nn.functional as F\n",
    "import torch.nn as nn\n",
    "import matplotlib.pyplot as plt\n",
    "from sklearn.metrics import classification_report, confusion_matrix"
   ]
  },
  {
   "cell_type": "markdown",
   "metadata": {},
   "source": [
    "## Task 1 - Preparacion del dataset"
   ]
  },
  {
   "cell_type": "markdown",
   "metadata": {},
   "source": [
    "cargar data"
   ]
  },
  {
   "cell_type": "code",
   "execution_count": 10,
   "metadata": {},
   "outputs": [
    {
     "name": "stdout",
     "output_type": "stream",
     "text": [
      "Primeras 5 filas de los datos:\n",
      " [[5.1 3.5 1.4 0.2]\n",
      " [4.9 3.  1.4 0.2]\n",
      " [4.7 3.2 1.3 0.2]\n",
      " [4.6 3.1 1.5 0.2]\n",
      " [5.  3.6 1.4 0.2]]\n"
     ]
    }
   ],
   "source": [
    "# Cargar dataset\n",
    "iris = load_iris()\n",
    "X = iris.data\n",
    "y = iris.target\n",
    "\n",
    "# Mostrar head de los datos\n",
    "print(\"Primeras 5 filas de los datos:\\n\", X[:5])"
   ]
  },
  {
   "cell_type": "markdown",
   "metadata": {},
   "source": [
    "dividir la data en conjunto de entrenamiento y validacion"
   ]
  },
  {
   "cell_type": "code",
   "execution_count": 11,
   "metadata": {},
   "outputs": [
    {
     "name": "stdout",
     "output_type": "stream",
     "text": [
      "Dataset dividido en entrenamiento y validación.\n"
     ]
    }
   ],
   "source": [
    "# Dividir el dataset en entrenamiento y validación\n",
    "X_train, X_val, y_train, y_val = train_test_split(X, y, test_size=0.2, random_state=42)\n",
    "\n",
    "# Convertir a tensores de PyTorch\n",
    "X_train = torch.tensor(X_train, dtype=torch.float32)\n",
    "y_train = torch.tensor(y_train, dtype=torch.long)\n",
    "X_val = torch.tensor(X_val, dtype=torch.float32)\n",
    "y_val = torch.tensor(y_val, dtype=torch.long)\n",
    "\n",
    "# Crear DataLoader\n",
    "train_dataset = TensorDataset(X_train, y_train)\n",
    "val_dataset = TensorDataset(X_val, y_val)\n",
    "\n",
    "train_loader = DataLoader(train_dataset, batch_size=16, shuffle=True)\n",
    "val_loader = DataLoader(val_dataset, batch_size=16)\n",
    "\n",
    "print(\"Dataset dividido en entrenamiento y validación.\")\n"
   ]
  },
  {
   "cell_type": "markdown",
   "metadata": {},
   "source": [
    "## Task 2 - Arquitectura modelo"
   ]
  },
  {
   "cell_type": "code",
   "execution_count": 12,
   "metadata": {},
   "outputs": [
    {
     "name": "stdout",
     "output_type": "stream",
     "text": [
      "Modelo avanzado creado.\n"
     ]
    }
   ],
   "source": [
    "class AdvancedFeedforwardNN(nn.Module):\n",
    "    def __init__(self, input_size, hidden_sizes, output_size, activation_fn):\n",
    "        super(AdvancedFeedforwardNN, self).__init__()\n",
    "        self.layers = nn.ModuleList()\n",
    "        self.batch_norms = nn.ModuleList()\n",
    "        self.activation_fn = activation_fn\n",
    "\n",
    "        # Crear capas ocultas\n",
    "        previous_size = input_size\n",
    "        for hidden_size in hidden_sizes:\n",
    "            self.layers.append(nn.Linear(previous_size, hidden_size))\n",
    "            self.batch_norms.append(nn.BatchNorm1d(hidden_size))\n",
    "            previous_size = hidden_size\n",
    "\n",
    "        # Capa de salida\n",
    "        self.output_layer = nn.Linear(previous_size, output_size)\n",
    "\n",
    "    def forward(self, x):\n",
    "        for i, layer in enumerate(self.layers):\n",
    "            x = layer(x)\n",
    "            x = self.batch_norms[i](x)\n",
    "            x = self.activation_fn(x)\n",
    "        x = self.output_layer(x)\n",
    "        return x\n",
    "\n",
    "# Definir el modelo con diferentes capas ocultas y función de activación\n",
    "input_size = 4\n",
    "hidden_sizes = [64, 32, 16]  # Número de capas y neuronas\n",
    "output_size = 3\n",
    "activation_fn = nn.ReLU()  # Función de activación\n",
    "\n",
    "model = AdvancedFeedforwardNN(input_size, hidden_sizes, output_size, activation_fn)\n",
    "print(\"Modelo avanzado creado.\")"
   ]
  },
  {
   "cell_type": "markdown",
   "metadata": {},
   "source": [
    "## Task 3 - Funciones de perdida"
   ]
  },
  {
   "cell_type": "code",
   "execution_count": 13,
   "metadata": {},
   "outputs": [
    {
     "name": "stdout",
     "output_type": "stream",
     "text": [
      "Epoch 1, Train Loss: 0.8706, Val Loss: 0.9859\n",
      "Epoch 2, Train Loss: 0.7105, Val Loss: 0.8989\n",
      "Epoch 3, Train Loss: 0.6081, Val Loss: 0.7565\n",
      "Epoch 4, Train Loss: 0.5640, Val Loss: 0.5995\n",
      "Epoch 5, Train Loss: 0.4769, Val Loss: 0.4723\n",
      "Epoch 6, Train Loss: 0.4553, Val Loss: 0.3807\n",
      "Epoch 7, Train Loss: 0.4929, Val Loss: 0.3266\n",
      "Epoch 8, Train Loss: 0.3771, Val Loss: 0.3090\n",
      "Epoch 9, Train Loss: 0.4113, Val Loss: 0.2999\n",
      "Epoch 10, Train Loss: 0.3775, Val Loss: 0.2662\n",
      "Epoch 11, Train Loss: 0.3537, Val Loss: 0.2553\n",
      "Epoch 12, Train Loss: 0.3797, Val Loss: 0.2858\n",
      "Epoch 13, Train Loss: 0.2985, Val Loss: 0.3160\n",
      "Epoch 14, Train Loss: 0.2973, Val Loss: 0.2389\n",
      "Epoch 15, Train Loss: 0.2905, Val Loss: 0.2320\n",
      "Epoch 16, Train Loss: 0.2816, Val Loss: 0.2113\n",
      "Epoch 17, Train Loss: 0.3007, Val Loss: 0.1855\n",
      "Epoch 18, Train Loss: 0.2313, Val Loss: 0.2093\n",
      "Epoch 19, Train Loss: 0.2401, Val Loss: 0.1794\n",
      "Epoch 20, Train Loss: 0.1731, Val Loss: 0.1610\n",
      "Epoch 21, Train Loss: 0.3015, Val Loss: 0.1518\n",
      "Epoch 22, Train Loss: 0.1826, Val Loss: 0.1708\n",
      "Epoch 23, Train Loss: 0.2067, Val Loss: 0.1532\n",
      "Epoch 24, Train Loss: 0.1721, Val Loss: 0.1485\n",
      "Epoch 25, Train Loss: 0.1852, Val Loss: 0.1405\n",
      "Epoch 26, Train Loss: 0.2017, Val Loss: 0.1399\n",
      "Epoch 27, Train Loss: 0.2290, Val Loss: 0.1158\n",
      "Epoch 28, Train Loss: 0.1761, Val Loss: 0.1267\n",
      "Epoch 29, Train Loss: 0.1890, Val Loss: 0.1337\n",
      "Epoch 30, Train Loss: 0.1340, Val Loss: 0.1269\n",
      "Epoch 31, Train Loss: 0.1583, Val Loss: 0.1200\n",
      "Epoch 32, Train Loss: 0.1516, Val Loss: 0.1135\n",
      "Epoch 33, Train Loss: 0.1807, Val Loss: 0.1125\n",
      "Epoch 34, Train Loss: 0.2543, Val Loss: 0.0926\n",
      "Epoch 35, Train Loss: 0.1965, Val Loss: 0.0897\n",
      "Epoch 36, Train Loss: 0.1552, Val Loss: 0.1036\n",
      "Epoch 37, Train Loss: 0.2004, Val Loss: 0.1010\n",
      "Epoch 38, Train Loss: 0.1844, Val Loss: 0.1023\n",
      "Epoch 39, Train Loss: 0.1546, Val Loss: 0.0918\n",
      "Epoch 40, Train Loss: 0.1368, Val Loss: 0.1000\n",
      "Epoch 41, Train Loss: 0.2255, Val Loss: 0.0965\n",
      "Epoch 42, Train Loss: 0.1401, Val Loss: 0.0818\n",
      "Epoch 43, Train Loss: 0.1881, Val Loss: 0.0833\n",
      "Epoch 44, Train Loss: 0.0879, Val Loss: 0.0873\n",
      "Epoch 45, Train Loss: 0.1203, Val Loss: 0.0869\n",
      "Epoch 46, Train Loss: 0.0998, Val Loss: 0.0879\n",
      "Epoch 47, Train Loss: 0.1661, Val Loss: 0.0933\n",
      "Epoch 48, Train Loss: 0.1511, Val Loss: 0.0852\n",
      "Epoch 49, Train Loss: 0.1806, Val Loss: 0.0759\n",
      "Epoch 50, Train Loss: 0.2036, Val Loss: 0.0684\n"
     ]
    }
   ],
   "source": [
    "def train_model(model, loss_fn, optimizer, train_loader, val_loader, num_epochs=100):\n",
    "    train_losses = []\n",
    "    val_losses = []\n",
    "\n",
    "    for epoch in range(num_epochs):\n",
    "        model.train()\n",
    "        running_loss = 0.0\n",
    "        for X_batch, y_batch in train_loader:\n",
    "            optimizer.zero_grad()\n",
    "            y_pred = model(X_batch)\n",
    "            loss = loss_fn(y_pred, y_batch)\n",
    "            loss.backward()\n",
    "            optimizer.step()\n",
    "            running_loss += loss.item()\n",
    "\n",
    "        train_loss = running_loss / len(train_loader)\n",
    "        train_losses.append(train_loss)\n",
    "\n",
    "        # Evaluar en conjunto de validación\n",
    "        model.eval()\n",
    "        val_loss = 0.0\n",
    "        with torch.no_grad():\n",
    "            for X_val_batch, y_val_batch in val_loader:\n",
    "                y_val_pred = model(X_val_batch)\n",
    "                val_loss += loss_fn(y_val_pred, y_val_batch).item()\n",
    "        val_loss /= len(val_loader)\n",
    "        val_losses.append(val_loss)\n",
    "\n",
    "        print(f'Epoch {epoch+1}, Train Loss: {train_loss:.4f}, Val Loss: {val_loss:.4f}')\n",
    "\n",
    "    return train_losses, val_losses\n",
    "\n",
    "# Entrenar el modelo\n",
    "loss_fn = nn.CrossEntropyLoss()\n",
    "optimizer = torch.optim.Adam(model.parameters(), lr=0.001)\n",
    "train_losses, val_losses = train_model(model, loss_fn, optimizer, train_loader, val_loader, num_epochs=50)"
   ]
  },
  {
   "cell_type": "markdown",
   "metadata": {},
   "source": [
    "## Task 4 - Técnicas de regularización"
   ]
  },
  {
   "cell_type": "code",
   "execution_count": 14,
   "metadata": {},
   "outputs": [
    {
     "name": "stdout",
     "output_type": "stream",
     "text": [
      "Modelo con regularización y early stopping creado.\n"
     ]
    }
   ],
   "source": [
    "class AdvancedFeedforwardNNWithRegularization(nn.Module):\n",
    "    def __init__(self, input_size, hidden_sizes, output_size, activation_fn, dropout_rate=0.5):\n",
    "        super(AdvancedFeedforwardNNWithRegularization, self).__init__()\n",
    "        self.layers = nn.ModuleList()\n",
    "        self.batch_norms = nn.ModuleList()\n",
    "        self.dropout = nn.Dropout(dropout_rate)\n",
    "        self.activation_fn = activation_fn\n",
    "\n",
    "        previous_size = input_size\n",
    "        for hidden_size in hidden_sizes:\n",
    "            self.layers.append(nn.Linear(previous_size, hidden_size))\n",
    "            self.batch_norms.append(nn.BatchNorm1d(hidden_size))\n",
    "            previous_size = hidden_size\n",
    "\n",
    "        self.output_layer = nn.Linear(previous_size, output_size)\n",
    "\n",
    "    def forward(self, x):\n",
    "        for i, layer in enumerate(self.layers):\n",
    "            x = layer(x)\n",
    "            x = self.batch_norms[i](x)\n",
    "            x = self.activation_fn(x)\n",
    "            x = self.dropout(x)\n",
    "        x = self.output_layer(x)\n",
    "        return x\n",
    "\n",
    "# Regularización L1 y L2 se puede aplicar durante la optimización\n",
    "optimizer = torch.optim.Adam(model.parameters(), lr=0.001, weight_decay=1e-4)  # L2 regularization\n",
    "\n",
    "# Implementación de Early Stopping\n",
    "def early_stopping(val_losses, patience=5):\n",
    "    if len(val_losses) > patience and val_losses[-1] > min(val_losses[-patience:]):\n",
    "        print(\"Early stopping triggered\")\n",
    "        return True\n",
    "    return False\n",
    "\n",
    "print(\"Modelo con regularización y early stopping creado.\")"
   ]
  },
  {
   "cell_type": "markdown",
   "metadata": {},
   "source": [
    "## Task 5 - Algoritmos de Optimizacion"
   ]
  },
  {
   "cell_type": "code",
   "execution_count": 8,
   "metadata": {},
   "outputs": [],
   "source": [
    "optimizers = {\n",
    "    'SGD': torch.optim.SGD(model.parameters(), lr=0.01, momentum=0.9),\n",
    "    'Adam': torch.optim.Adam(model.parameters(), lr=0.001),\n",
    "    'RMSprop': torch.optim.RMSprop(model.parameters(), lr=0.001),\n",
    "    'Adagrad': torch.optim.Adagrad(model.parameters(), lr=0.01)\n",
    "}\n",
    "\n",
    "print(\"Optimizers definidos: SGD, Adam, RMSprop, Adagrad.\")\n"
   ]
  },
  {
   "cell_type": "markdown",
   "metadata": {},
   "source": [
    "## Task 6 - Experimentacion y Analisis"
   ]
  },
  {
   "cell_type": "code",
   "execution_count": 17,
   "metadata": {},
   "outputs": [
    {
     "data": {
      "image/png": "[encoded data removed]",
      "text/plain": [
       "<Figure size 640x480 with 1 Axes>"
      ]
     },
     "metadata": {},
     "output_type": "display_data"
    },
    {
     "name": "stdout",
     "output_type": "stream",
     "text": [
      "Confusion Matrix:\n",
      "[[10  0  0]\n",
      " [ 0  9  0]\n",
      " [ 0  0 11]]\n",
      "\n",
      "Classification Report:\n",
      "              precision    recall  f1-score   support\n",
      "\n",
      "           0       1.00      1.00      1.00        10\n",
      "           1       1.00      1.00      1.00         9\n",
      "           2       1.00      1.00      1.00        11\n",
      "\n",
      "    accuracy                           1.00        30\n",
      "   macro avg       1.00      1.00      1.00        30\n",
      "weighted avg       1.00      1.00      1.00        30\n",
      "\n"
     ]
    }
   ],
   "source": [
    "def plot_losses(train_losses, val_losses):\n",
    "    plt.plot(train_losses, label='Train Loss')\n",
    "    plt.plot(val_losses, label='Validation Loss')\n",
    "    plt.xlabel('Epochs')\n",
    "    plt.ylabel('Loss')\n",
    "    plt.legend()\n",
    "    plt.show()\n",
    "\n",
    "def evaluate_model(model, test_loader):\n",
    "    model.eval()\n",
    "    y_true = []\n",
    "    y_pred = []\n",
    "    with torch.no_grad():\n",
    "        for X_batch, y_batch in test_loader:\n",
    "            output = model(X_batch)\n",
    "            _, predicted = torch.max(output, 1)\n",
    "            y_true.extend(y_batch.numpy())\n",
    "            y_pred.extend(predicted.numpy())\n",
    "    print(\"Confusion Matrix:\")\n",
    "    print(confusion_matrix(y_true, y_pred))\n",
    "    print(\"\\nClassification Report:\")\n",
    "    print(classification_report(y_true, y_pred))\n",
    "\n",
    "# Graficar las pérdidas\n",
    "plot_losses(train_losses, val_losses)\n",
    "\n",
    "# Evaluar el modelo en conjunto de validación\n",
    "evaluate_model(model, val_loader)\n"
   ]
  }
 ],
 "metadata": {
  "kernelspec": {
   "display_name": "Python 3",
   "language": "python",
   "name": "python3"
  },
  "language_info": {
   "codemirror_mode": {
    "name": "ipython",
    "version": 3
   },
   "file_extension": ".py",
   "mimetype": "text/x-python",
   "name": "python",
   "nbconvert_exporter": "python",
   "pygments_lexer": "ipython3",
   "version": "3.10.14"
  }
 },
 "nbformat": 4,
 "nbformat_minor": 2
}
